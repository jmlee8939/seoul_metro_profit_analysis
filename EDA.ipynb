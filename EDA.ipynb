{
 "cells": [
  {
   "cell_type": "markdown",
   "metadata": {},
   "source": [
    "## 데이터 전처리 및 EDA"
   ]
  },
  {
   "cell_type": "code",
   "execution_count": 2,
   "metadata": {},
   "outputs": [],
   "source": [
    "import numpy as np\n",
    "import pandas as pd\n",
    "import matplotlib.pyplot as plt\n",
    "import seaborn as sns\n",
    "import os"
   ]
  },
  {
   "cell_type": "code",
   "execution_count": 3,
   "metadata": {},
   "outputs": [
    {
     "data": {
      "text/plain": [
       "'c:\\\\Users\\\\jaemini_man\\\\Desktop\\\\github\\\\seoul_metro_profit_analysis'"
      ]
     },
     "execution_count": 3,
     "metadata": {},
     "output_type": "execute_result"
    }
   ],
   "source": [
    "os.getcwd()"
   ]
  },
  {
   "cell_type": "code",
   "execution_count": 4,
   "metadata": {},
   "outputs": [
    {
     "data": {
      "text/plain": [
       "['data1.csv',\n",
       " '도시철도_총괄지표.csv',\n",
       " '무임승차_대상별_현황.csv',\n",
       " '서울교통공사_역간이용인원_211031.csv',\n",
       " '서울교통공사_월별 승차인원_20191231.csv',\n",
       " '서울교통공사_월별 승차인원_20201231.csv',\n",
       " '서울교통공사_월별 승차인원_20211231.csv',\n",
       " '서울교통공사_월별 승차인원_20220831.csv',\n",
       " '성_및_연령별_추계인구.csv',\n",
       " '승객_1인당_운임손실_현황.csv',\n",
       " '운영기관별_손익계산서.csv']"
      ]
     },
     "execution_count": 4,
     "metadata": {},
     "output_type": "execute_result"
    }
   ],
   "source": [
    "csv_list = os.listdir(os.getcwd() + '/data')\n",
    "csv_list"
   ]
  },
  {
   "attachments": {},
   "cell_type": "markdown",
   "metadata": {},
   "source": [
    "#### 문제확인"
   ]
  },
  {
   "cell_type": "code",
   "execution_count": 5,
   "metadata": {},
   "outputs": [],
   "source": [
    "df1 = pd.read_csv(os.getcwd() + \"//data//\" + csv_list[0], header=0)"
   ]
  },
  {
   "cell_type": "code",
   "execution_count": 6,
   "metadata": {},
   "outputs": [
    {
     "data": {
      "text/html": [
       "<div>\n",
       "<style scoped>\n",
       "    .dataframe tbody tr th:only-of-type {\n",
       "        vertical-align: middle;\n",
       "    }\n",
       "\n",
       "    .dataframe tbody tr th {\n",
       "        vertical-align: top;\n",
       "    }\n",
       "\n",
       "    .dataframe thead th {\n",
       "        text-align: right;\n",
       "    }\n",
       "</style>\n",
       "<table border=\"1\" class=\"dataframe\">\n",
       "  <thead>\n",
       "    <tr style=\"text-align: right;\">\n",
       "      <th></th>\n",
       "      <th>년도</th>\n",
       "      <th>영업 수입 소계</th>\n",
       "      <th>운수사업수익</th>\n",
       "      <th>기타사업수익</th>\n",
       "      <th>소계</th>\n",
       "      <th>인건비</th>\n",
       "      <th>경비</th>\n",
       "      <th>영업 손익</th>\n",
       "      <th>영업외수익</th>\n",
       "      <th>영업외비용</th>\n",
       "      <th>경상 손익</th>\n",
       "    </tr>\n",
       "  </thead>\n",
       "  <tbody>\n",
       "    <tr>\n",
       "      <th>0</th>\n",
       "      <td>2017</td>\n",
       "      <td>19673</td>\n",
       "      <td>16165</td>\n",
       "      <td>3508</td>\n",
       "      <td>24892</td>\n",
       "      <td>12911</td>\n",
       "      <td>11981</td>\n",
       "      <td>-5219</td>\n",
       "      <td>772</td>\n",
       "      <td>807</td>\n",
       "      <td>-5254</td>\n",
       "    </tr>\n",
       "    <tr>\n",
       "      <th>1</th>\n",
       "      <td>2018</td>\n",
       "      <td>19865</td>\n",
       "      <td>16234</td>\n",
       "      <td>3631</td>\n",
       "      <td>25187</td>\n",
       "      <td>12748</td>\n",
       "      <td>12439</td>\n",
       "      <td>-5322</td>\n",
       "      <td>1684</td>\n",
       "      <td>1751</td>\n",
       "      <td>-5389</td>\n",
       "    </tr>\n",
       "    <tr>\n",
       "      <th>2</th>\n",
       "      <td>2019</td>\n",
       "      <td>20046</td>\n",
       "      <td>16367</td>\n",
       "      <td>3679</td>\n",
       "      <td>25370</td>\n",
       "      <td>12602</td>\n",
       "      <td>12768</td>\n",
       "      <td>-5324</td>\n",
       "      <td>504</td>\n",
       "      <td>1045</td>\n",
       "      <td>-5865</td>\n",
       "    </tr>\n",
       "    <tr>\n",
       "      <th>3</th>\n",
       "      <td>2020</td>\n",
       "      <td>15595</td>\n",
       "      <td>11932</td>\n",
       "      <td>3663</td>\n",
       "      <td>26497</td>\n",
       "      <td>13551</td>\n",
       "      <td>12946</td>\n",
       "      <td>-10902</td>\n",
       "      <td>507</td>\n",
       "      <td>743</td>\n",
       "      <td>-11138</td>\n",
       "    </tr>\n",
       "    <tr>\n",
       "      <th>4</th>\n",
       "      <td>2021</td>\n",
       "      <td>16291</td>\n",
       "      <td>12542</td>\n",
       "      <td>3749</td>\n",
       "      <td>25676</td>\n",
       "      <td>12267</td>\n",
       "      <td>13409</td>\n",
       "      <td>-9385</td>\n",
       "      <td>511</td>\n",
       "      <td>770</td>\n",
       "      <td>-9644</td>\n",
       "    </tr>\n",
       "  </tbody>\n",
       "</table>\n",
       "</div>"
      ],
      "text/plain": [
       "     년도  영업 수입 소계  운수사업수익  기타사업수익     소계    인건비     경비  영업 손익  영업외수익  영업외비용  \\\n",
       "0  2017     19673   16165    3508  24892  12911  11981  -5219    772    807   \n",
       "1  2018     19865   16234    3631  25187  12748  12439  -5322   1684   1751   \n",
       "2  2019     20046   16367    3679  25370  12602  12768  -5324    504   1045   \n",
       "3  2020     15595   11932    3663  26497  13551  12946 -10902    507    743   \n",
       "4  2021     16291   12542    3749  25676  12267  13409  -9385    511    770   \n",
       "\n",
       "   경상 손익  \n",
       "0  -5254  \n",
       "1  -5389  \n",
       "2  -5865  \n",
       "3 -11138  \n",
       "4  -9644  "
      ]
     },
     "execution_count": 6,
     "metadata": {},
     "output_type": "execute_result"
    }
   ],
   "source": [
    "df1 = df1.iloc[:6,:]\n",
    "df1"
   ]
  },
  {
   "cell_type": "code",
   "execution_count": 7,
   "metadata": {},
   "outputs": [],
   "source": [
    "plt.rcParams['font.family'] = 'Malgun Gothic'"
   ]
  },
  {
   "cell_type": "code",
   "execution_count": 8,
   "metadata": {},
   "outputs": [
    {
     "data": {
      "text/plain": [
       "Text(0.5, 1.0, '5년간의 서울교통공사 수익 및 지출액')"
      ]
     },
     "execution_count": 8,
     "metadata": {},
     "output_type": "execute_result"
    },
    {
     "data": {
      "image/png": "[encoded data removed]",
      "text/plain": [
       "<Figure size 720x360 with 1 Axes>"
      ]
     },
     "metadata": {
      "needs_background": "light"
     },
     "output_type": "display_data"
    }
   ],
   "source": [
    "N = 5\n",
    "ind = np.arange(N)\n",
    "wid = 0.4\n",
    "\n",
    "val1 = df1['운수사업수익']\n",
    "val2 = df1['기타사업수익']\n",
    "val3 = df1['인건비']\n",
    "val4 = df1['경비']\n",
    "val5 = df1['영업 손익'].apply(lambda x: -x)\n",
    "\n",
    "plt.figure(figsize= (10, 5))\n",
    "\n",
    "plt.bar(ind-wid/2, val1, width = wid, color = 'blue', label = \"운수 수익\")\n",
    "plt.bar(ind-wid/2, val2, width = wid, color = 'skyblue', bottom=val1, label = \"기타 수익\" )\n",
    "plt.bar(ind+wid/2, val3, width = wid, color = 'red', label = \"인건비 지출\")\n",
    "plt.bar(ind+wid/2, val4, width = wid, color = 'pink', bottom = val3, label = \"경비 지출\")\n",
    "\n",
    "plt.xticks(ind, df1['년도'])\n",
    "plt.ylim((0, 35000))\n",
    "plt.xlabel(\"년도\")\n",
    "plt.ylabel(\"수입/지출액 (억원)\")\n",
    "plt.legend()\n",
    "\n",
    "plt.title(\"5년간의 서울교통공사 수익 및 지출액\")\n"
   ]
  },
  {
   "cell_type": "code",
   "execution_count": 9,
   "metadata": {},
   "outputs": [
    {
     "data": {
      "text/plain": [
       "Text(0.5, 1.0, '5년간의 서울교통공사 적자규모')"
      ]
     },
     "execution_count": 9,
     "metadata": {},
     "output_type": "execute_result"
    },
    {
     "data": {
      "image/png": "[encoded data removed]",
      "text/plain": [
       "<Figure size 432x288 with 1 Axes>"
      ]
     },
     "metadata": {
      "needs_background": "light"
     },
     "output_type": "display_data"
    }
   ],
   "source": [
    "plt.plot(ind, val5, marker = 'o', linestyle = '-')\n",
    "\n",
    "plt.xticks(ind, df1[\"년도\"])\n",
    "plt.ylim((0, 13000))\n",
    "\n",
    "plt.xlabel(\"년도\")\n",
    "plt.ylabel(\"적자 규모 (억원)\")\n",
    "plt.grid()\n",
    "plt.title(\"5년간의 서울교통공사 적자규모\")\n"
   ]
  },
  {
   "cell_type": "code",
   "execution_count": 12,
   "metadata": {},
   "outputs": [],
   "source": [
    "csv2 = csv_list[4:8]"
   ]
  },
  {
   "cell_type": "code",
   "execution_count": 13,
   "metadata": {},
   "outputs": [
    {
     "data": {
      "text/plain": [
       "['서울교통공사_월별 승차인원_20191231.csv',\n",
       " '서울교통공사_월별 승차인원_20201231.csv',\n",
       " '서울교통공사_월별 승차인원_20211231.csv',\n",
       " '서울교통공사_월별 승차인원_20220831.csv']"
      ]
     },
     "execution_count": 13,
     "metadata": {},
     "output_type": "execute_result"
    }
   ],
   "source": [
    "csv2"
   ]
  },
  {
   "cell_type": "code",
   "execution_count": 15,
   "metadata": {},
   "outputs": [],
   "source": [
    "df2 = pd.read_csv(os.getcwd() + \"//data//\" + csv2[0], header=0, encoding='cp949')"
   ]
  },
  {
   "cell_type": "code",
   "execution_count": 17,
   "metadata": {},
   "outputs": [
    {
     "data": {
      "text/html": [
       "<div>\n",
       "<style scoped>\n",
       "    .dataframe tbody tr th:only-of-type {\n",
       "        vertical-align: middle;\n",
       "    }\n",
       "\n",
       "    .dataframe tbody tr th {\n",
       "        vertical-align: top;\n",
       "    }\n",
       "\n",
       "    .dataframe thead th {\n",
       "        text-align: right;\n",
       "    }\n",
       "</style>\n",
       "<table border=\"1\" class=\"dataframe\">\n",
       "  <thead>\n",
       "    <tr style=\"text-align: right;\">\n",
       "      <th></th>\n",
       "      <th>호선</th>\n",
       "      <th>역번호</th>\n",
       "      <th>역명</th>\n",
       "      <th>1월</th>\n",
       "      <th>2월</th>\n",
       "      <th>3월</th>\n",
       "      <th>4월</th>\n",
       "      <th>5월</th>\n",
       "      <th>6월</th>\n",
       "      <th>7월</th>\n",
       "      <th>8월</th>\n",
       "      <th>9월</th>\n",
       "      <th>10월</th>\n",
       "      <th>11월</th>\n",
       "      <th>12월</th>\n",
       "    </tr>\n",
       "  </thead>\n",
       "  <tbody>\n",
       "    <tr>\n",
       "      <th>0</th>\n",
       "      <td>1호선</td>\n",
       "      <td>150</td>\n",
       "      <td>서울역(1)</td>\n",
       "      <td>1743865</td>\n",
       "      <td>1562398</td>\n",
       "      <td>1775452</td>\n",
       "      <td>1782515</td>\n",
       "      <td>1822907</td>\n",
       "      <td>1688385</td>\n",
       "      <td>1741978</td>\n",
       "      <td>1734927</td>\n",
       "      <td>1641596</td>\n",
       "      <td>1837980</td>\n",
       "      <td>1791791</td>\n",
       "      <td>1825061</td>\n",
       "    </tr>\n",
       "    <tr>\n",
       "      <th>1</th>\n",
       "      <td>1호선</td>\n",
       "      <td>151</td>\n",
       "      <td>시청(1)</td>\n",
       "      <td>782060</td>\n",
       "      <td>640734</td>\n",
       "      <td>791551</td>\n",
       "      <td>815888</td>\n",
       "      <td>824692</td>\n",
       "      <td>754209</td>\n",
       "      <td>782444</td>\n",
       "      <td>788006</td>\n",
       "      <td>725843</td>\n",
       "      <td>914453</td>\n",
       "      <td>835386</td>\n",
       "      <td>867885</td>\n",
       "    </tr>\n",
       "    <tr>\n",
       "      <th>2</th>\n",
       "      <td>1호선</td>\n",
       "      <td>152</td>\n",
       "      <td>종각</td>\n",
       "      <td>1406723</td>\n",
       "      <td>1169723</td>\n",
       "      <td>1363922</td>\n",
       "      <td>1349279</td>\n",
       "      <td>1384409</td>\n",
       "      <td>1251023</td>\n",
       "      <td>1375099</td>\n",
       "      <td>1333026</td>\n",
       "      <td>1197762</td>\n",
       "      <td>1423904</td>\n",
       "      <td>1338360</td>\n",
       "      <td>1471748</td>\n",
       "    </tr>\n",
       "    <tr>\n",
       "      <th>3</th>\n",
       "      <td>1호선</td>\n",
       "      <td>153</td>\n",
       "      <td>종로3가(1)</td>\n",
       "      <td>1098796</td>\n",
       "      <td>935466</td>\n",
       "      <td>1085127</td>\n",
       "      <td>1053355</td>\n",
       "      <td>1115802</td>\n",
       "      <td>1024958</td>\n",
       "      <td>1072728</td>\n",
       "      <td>1019735</td>\n",
       "      <td>952731</td>\n",
       "      <td>1104427</td>\n",
       "      <td>1029071</td>\n",
       "      <td>1096451</td>\n",
       "    </tr>\n",
       "    <tr>\n",
       "      <th>4</th>\n",
       "      <td>1호선</td>\n",
       "      <td>154</td>\n",
       "      <td>종로5가</td>\n",
       "      <td>850612</td>\n",
       "      <td>725584</td>\n",
       "      <td>864901</td>\n",
       "      <td>849988</td>\n",
       "      <td>872246</td>\n",
       "      <td>788147</td>\n",
       "      <td>806410</td>\n",
       "      <td>784547</td>\n",
       "      <td>745353</td>\n",
       "      <td>876801</td>\n",
       "      <td>835194</td>\n",
       "      <td>870831</td>\n",
       "    </tr>\n",
       "  </tbody>\n",
       "</table>\n",
       "</div>"
      ],
      "text/plain": [
       "    호선  역번호       역명       1월       2월       3월       4월       5월       6월  \\\n",
       "0  1호선  150   서울역(1)  1743865  1562398  1775452  1782515  1822907  1688385   \n",
       "1  1호선  151    시청(1)   782060   640734   791551   815888   824692   754209   \n",
       "2  1호선  152       종각  1406723  1169723  1363922  1349279  1384409  1251023   \n",
       "3  1호선  153  종로3가(1)  1098796   935466  1085127  1053355  1115802  1024958   \n",
       "4  1호선  154     종로5가   850612   725584   864901   849988   872246   788147   \n",
       "\n",
       "        7월       8월       9월      10월      11월      12월  \n",
       "0  1741978  1734927  1641596  1837980  1791791  1825061  \n",
       "1   782444   788006   725843   914453   835386   867885  \n",
       "2  1375099  1333026  1197762  1423904  1338360  1471748  \n",
       "3  1072728  1019735   952731  1104427  1029071  1096451  \n",
       "4   806410   784547   745353   876801   835194   870831  "
      ]
     },
     "execution_count": 17,
     "metadata": {},
     "output_type": "execute_result"
    }
   ],
   "source": [
    "df2.head()"
   ]
  },
  {
   "cell_type": "code",
   "execution_count": 18,
   "metadata": {},
   "outputs": [
    {
     "data": {
      "text/html": [
       "<div>\n",
       "<style scoped>\n",
       "    .dataframe tbody tr th:only-of-type {\n",
       "        vertical-align: middle;\n",
       "    }\n",
       "\n",
       "    .dataframe tbody tr th {\n",
       "        vertical-align: top;\n",
       "    }\n",
       "\n",
       "    .dataframe thead th {\n",
       "        text-align: right;\n",
       "    }\n",
       "</style>\n",
       "<table border=\"1\" class=\"dataframe\">\n",
       "  <thead>\n",
       "    <tr style=\"text-align: right;\">\n",
       "      <th></th>\n",
       "      <th>연번</th>\n",
       "      <th>호선</th>\n",
       "      <th>역번호</th>\n",
       "      <th>역명</th>\n",
       "      <th>2020년1월</th>\n",
       "      <th>2020년2월</th>\n",
       "      <th>2020년3월</th>\n",
       "      <th>2020년4월</th>\n",
       "      <th>2020년5월</th>\n",
       "      <th>2020년6월</th>\n",
       "      <th>2020년7월</th>\n",
       "      <th>2020년8월</th>\n",
       "      <th>2020년9월</th>\n",
       "      <th>2020년10월</th>\n",
       "      <th>2020년11월</th>\n",
       "      <th>2020년12월</th>\n",
       "    </tr>\n",
       "  </thead>\n",
       "  <tbody>\n",
       "    <tr>\n",
       "      <th>0</th>\n",
       "      <td>1</td>\n",
       "      <td>1</td>\n",
       "      <td>150</td>\n",
       "      <td>서울역(1)</td>\n",
       "      <td>1656310.0</td>\n",
       "      <td>1165571.0</td>\n",
       "      <td>820317.0</td>\n",
       "      <td>919843.0</td>\n",
       "      <td>1086370.0</td>\n",
       "      <td>1127913.0</td>\n",
       "      <td>1221712.0</td>\n",
       "      <td>1015733.0</td>\n",
       "      <td>863001.0</td>\n",
       "      <td>1094090.0</td>\n",
       "      <td>1139047.0</td>\n",
       "      <td>846293.0</td>\n",
       "    </tr>\n",
       "    <tr>\n",
       "      <th>1</th>\n",
       "      <td>2</td>\n",
       "      <td>1</td>\n",
       "      <td>151</td>\n",
       "      <td>시청(1)</td>\n",
       "      <td>733284.0</td>\n",
       "      <td>572773.0</td>\n",
       "      <td>441666.0</td>\n",
       "      <td>436556.0</td>\n",
       "      <td>480932.0</td>\n",
       "      <td>517110.0</td>\n",
       "      <td>560611.0</td>\n",
       "      <td>461172.0</td>\n",
       "      <td>427762.0</td>\n",
       "      <td>493683.0</td>\n",
       "      <td>533992.0</td>\n",
       "      <td>431330.0</td>\n",
       "    </tr>\n",
       "    <tr>\n",
       "      <th>2</th>\n",
       "      <td>3</td>\n",
       "      <td>1</td>\n",
       "      <td>152</td>\n",
       "      <td>종각</td>\n",
       "      <td>1258392.0</td>\n",
       "      <td>987940.0</td>\n",
       "      <td>744697.0</td>\n",
       "      <td>805716.0</td>\n",
       "      <td>884760.0</td>\n",
       "      <td>954524.0</td>\n",
       "      <td>1044657.0</td>\n",
       "      <td>821808.0</td>\n",
       "      <td>694840.0</td>\n",
       "      <td>858673.0</td>\n",
       "      <td>893607.0</td>\n",
       "      <td>670083.0</td>\n",
       "    </tr>\n",
       "    <tr>\n",
       "      <th>3</th>\n",
       "      <td>4</td>\n",
       "      <td>1</td>\n",
       "      <td>153</td>\n",
       "      <td>종로3가(1)</td>\n",
       "      <td>992098.0</td>\n",
       "      <td>728608.0</td>\n",
       "      <td>562310.0</td>\n",
       "      <td>628279.0</td>\n",
       "      <td>709067.0</td>\n",
       "      <td>703246.0</td>\n",
       "      <td>785596.0</td>\n",
       "      <td>623609.0</td>\n",
       "      <td>546019.0</td>\n",
       "      <td>674534.0</td>\n",
       "      <td>674692.0</td>\n",
       "      <td>498153.0</td>\n",
       "    </tr>\n",
       "    <tr>\n",
       "      <th>4</th>\n",
       "      <td>5</td>\n",
       "      <td>1</td>\n",
       "      <td>154</td>\n",
       "      <td>종로5가</td>\n",
       "      <td>765406.0</td>\n",
       "      <td>574483.0</td>\n",
       "      <td>471234.0</td>\n",
       "      <td>519004.0</td>\n",
       "      <td>589582.0</td>\n",
       "      <td>589455.0</td>\n",
       "      <td>627931.0</td>\n",
       "      <td>506893.0</td>\n",
       "      <td>495066.0</td>\n",
       "      <td>558971.0</td>\n",
       "      <td>550003.0</td>\n",
       "      <td>466896.0</td>\n",
       "    </tr>\n",
       "  </tbody>\n",
       "</table>\n",
       "</div>"
      ],
      "text/plain": [
       "   연번  호선  역번호       역명    2020년1월    2020년2월   2020년3월   2020년4월    2020년5월  \\\n",
       "0   1   1  150   서울역(1)  1656310.0  1165571.0  820317.0  919843.0  1086370.0   \n",
       "1   2   1  151    시청(1)   733284.0   572773.0  441666.0  436556.0   480932.0   \n",
       "2   3   1  152       종각  1258392.0   987940.0  744697.0  805716.0   884760.0   \n",
       "3   4   1  153  종로3가(1)   992098.0   728608.0  562310.0  628279.0   709067.0   \n",
       "4   5   1  154     종로5가   765406.0   574483.0  471234.0  519004.0   589582.0   \n",
       "\n",
       "     2020년6월    2020년7월    2020년8월   2020년9월   2020년10월   2020년11월  2020년12월  \n",
       "0  1127913.0  1221712.0  1015733.0  863001.0  1094090.0  1139047.0  846293.0  \n",
       "1   517110.0   560611.0   461172.0  427762.0   493683.0   533992.0  431330.0  \n",
       "2   954524.0  1044657.0   821808.0  694840.0   858673.0   893607.0  670083.0  \n",
       "3   703246.0   785596.0   623609.0  546019.0   674534.0   674692.0  498153.0  \n",
       "4   589455.0   627931.0   506893.0  495066.0   558971.0   550003.0  466896.0  "
      ]
     },
     "execution_count": 18,
     "metadata": {},
     "output_type": "execute_result"
    }
   ],
   "source": [
    "df3 = pd.read_csv(os.getcwd() + \"//data//\" + csv2[1], header=0, encoding='cp949')\n",
    "df3.head()"
   ]
  },
  {
   "cell_type": "code",
   "execution_count": null,
   "metadata": {},
   "outputs": [],
   "source": []
  }
 ],
 "metadata": {
  "kernelspec": {
   "display_name": "base",
   "language": "python",
   "name": "python3"
  },
  "language_info": {
   "codemirror_mode": {
    "name": "ipython",
    "version": 3
   },
   "file_extension": ".py",
   "mimetype": "text/x-python",
   "name": "python",
   "nbconvert_exporter": "python",
   "pygments_lexer": "ipython3",
   "version": "3.8.3"
  },
  "orig_nbformat": 4,
  "vscode": {
   "interpreter": {
    "hash": "d6203d9569413f472cbef7e49f841849e643188f0fe66e32e9d8446063093a31"
   }
  }
 },
 "nbformat": 4,
 "nbformat_minor": 2
}
