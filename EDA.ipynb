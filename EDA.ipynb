{
 "cells": [
  {
   "cell_type": "markdown",
   "metadata": {},
   "source": [
    "## 데이터 전처리 및 EDA"
   ]
  },
  {
   "cell_type": "code",
   "execution_count": 1,
   "metadata": {},
   "outputs": [],
   "source": [
    "import numpy as np\n",
    "import pandas as pd\n",
    "import matplotlib.pyplot as plt\n",
    "import seaborn as sns\n",
    "import os"
   ]
  },
  {
   "cell_type": "code",
   "execution_count": 3,
   "metadata": {},
   "outputs": [
    {
     "ename": "FileNotFoundError",
     "evalue": "[WinError 3] 지정된 경로를 찾을 수 없습니다: './GitHub/seoul_metro_profit_analysis'",
     "output_type": "error",
     "traceback": [
      "\u001b[1;31m---------------------------------------------------------------------------\u001b[0m",
      "\u001b[1;31mFileNotFoundError\u001b[0m                         Traceback (most recent call last)",
      "\u001b[1;32mc:\\Users\\jaeminiman\\Desktop\\workspace\\GitHub\\seoul_metro_profit_analysis\\EDA.ipynb Cell 3\u001b[0m in \u001b[0;36m<cell line: 1>\u001b[1;34m()\u001b[0m\n\u001b[1;32m----> <a href='vscode-notebook-cell:/c%3A/Users/jaeminiman/Desktop/workspace/GitHub/seoul_metro_profit_analysis/EDA.ipynb#W2sZmlsZQ%3D%3D?line=0'>1</a>\u001b[0m os\u001b[39m.\u001b[39;49mchdir(\u001b[39m'\u001b[39;49m\u001b[39m./GitHub/seoul_metro_profit_analysis\u001b[39;49m\u001b[39m'\u001b[39;49m)\n\u001b[0;32m      <a href='vscode-notebook-cell:/c%3A/Users/jaeminiman/Desktop/workspace/GitHub/seoul_metro_profit_analysis/EDA.ipynb#W2sZmlsZQ%3D%3D?line=1'>2</a>\u001b[0m os\u001b[39m.\u001b[39mgetcwd()\n",
      "\u001b[1;31mFileNotFoundError\u001b[0m: [WinError 3] 지정된 경로를 찾을 수 없습니다: './GitHub/seoul_metro_profit_analysis'"
     ]
    }
   ],
   "source": [
    "os.chdir('./GitHub/seoul_metro_profit_analysis')\n",
    "os.getcwd()"
   ]
  },
  {
   "cell_type": "code",
   "execution_count": 13,
   "metadata": {},
   "outputs": [
    {
     "data": {
      "text/plain": [
       "['data1.csv',\n",
       " '도시철도_총괄지표.csv',\n",
       " '무임승차_대상별_현황.csv',\n",
       " '서울교통공사_역간이용인원_211031.csv',\n",
       " '성_및_연령별_추계인구.csv',\n",
       " '승객_1인당_운임손실_현황.csv',\n",
       " '운영기관별_손익계산서.csv']"
      ]
     },
     "execution_count": 13,
     "metadata": {},
     "output_type": "execute_result"
    }
   ],
   "source": [
    "csv_list = os.listdir(os.getcwd() + '/data')\n",
    "csv_list"
   ]
  },
  {
   "attachments": {},
   "cell_type": "markdown",
   "metadata": {},
   "source": [
    "#### 문제확인"
   ]
  },
  {
   "cell_type": "code",
   "execution_count": 26,
   "metadata": {},
   "outputs": [],
   "source": [
    "df1 = pd.read_csv(os.getcwd() + \"//data//\" + csv_list[0], header=0)"
   ]
  },
  {
   "cell_type": "code",
   "execution_count": 27,
   "metadata": {},
   "outputs": [
    {
     "data": {
      "text/html": [
       "<div>\n",
       "<style scoped>\n",
       "    .dataframe tbody tr th:only-of-type {\n",
       "        vertical-align: middle;\n",
       "    }\n",
       "\n",
       "    .dataframe tbody tr th {\n",
       "        vertical-align: top;\n",
       "    }\n",
       "\n",
       "    .dataframe thead th {\n",
       "        text-align: right;\n",
       "    }\n",
       "</style>\n",
       "<table border=\"1\" class=\"dataframe\">\n",
       "  <thead>\n",
       "    <tr style=\"text-align: right;\">\n",
       "      <th></th>\n",
       "      <th>년도</th>\n",
       "      <th>영업 수입 소계</th>\n",
       "      <th>운수사업수익</th>\n",
       "      <th>기타사업수익</th>\n",
       "      <th>소계</th>\n",
       "      <th>인건비</th>\n",
       "      <th>경비</th>\n",
       "      <th>영업 손익</th>\n",
       "      <th>영업외수익</th>\n",
       "      <th>영업외비용</th>\n",
       "      <th>경상 손익</th>\n",
       "    </tr>\n",
       "  </thead>\n",
       "  <tbody>\n",
       "    <tr>\n",
       "      <th>0</th>\n",
       "      <td>2017</td>\n",
       "      <td>19673</td>\n",
       "      <td>16165</td>\n",
       "      <td>3508</td>\n",
       "      <td>24892</td>\n",
       "      <td>12911</td>\n",
       "      <td>11981</td>\n",
       "      <td>-5219</td>\n",
       "      <td>772</td>\n",
       "      <td>807</td>\n",
       "      <td>-5254</td>\n",
       "    </tr>\n",
       "    <tr>\n",
       "      <th>1</th>\n",
       "      <td>2018</td>\n",
       "      <td>19865</td>\n",
       "      <td>16234</td>\n",
       "      <td>3631</td>\n",
       "      <td>25187</td>\n",
       "      <td>12748</td>\n",
       "      <td>12439</td>\n",
       "      <td>-5322</td>\n",
       "      <td>1684</td>\n",
       "      <td>1751</td>\n",
       "      <td>-5389</td>\n",
       "    </tr>\n",
       "    <tr>\n",
       "      <th>2</th>\n",
       "      <td>2019</td>\n",
       "      <td>20046</td>\n",
       "      <td>16367</td>\n",
       "      <td>3679</td>\n",
       "      <td>25370</td>\n",
       "      <td>12602</td>\n",
       "      <td>12768</td>\n",
       "      <td>-5324</td>\n",
       "      <td>504</td>\n",
       "      <td>1045</td>\n",
       "      <td>-5865</td>\n",
       "    </tr>\n",
       "    <tr>\n",
       "      <th>3</th>\n",
       "      <td>2020</td>\n",
       "      <td>15595</td>\n",
       "      <td>11932</td>\n",
       "      <td>3663</td>\n",
       "      <td>26497</td>\n",
       "      <td>13551</td>\n",
       "      <td>12946</td>\n",
       "      <td>-10902</td>\n",
       "      <td>507</td>\n",
       "      <td>743</td>\n",
       "      <td>-11138</td>\n",
       "    </tr>\n",
       "    <tr>\n",
       "      <th>4</th>\n",
       "      <td>2021</td>\n",
       "      <td>16291</td>\n",
       "      <td>12542</td>\n",
       "      <td>3749</td>\n",
       "      <td>25676</td>\n",
       "      <td>12267</td>\n",
       "      <td>13409</td>\n",
       "      <td>-9385</td>\n",
       "      <td>511</td>\n",
       "      <td>770</td>\n",
       "      <td>-9644</td>\n",
       "    </tr>\n",
       "  </tbody>\n",
       "</table>\n",
       "</div>"
      ],
      "text/plain": [
       "     년도  영업 수입 소계  운수사업수익  기타사업수익     소계    인건비     경비  영업 손익  영업외수익  영업외비용  \\\n",
       "0  2017     19673   16165    3508  24892  12911  11981  -5219    772    807   \n",
       "1  2018     19865   16234    3631  25187  12748  12439  -5322   1684   1751   \n",
       "2  2019     20046   16367    3679  25370  12602  12768  -5324    504   1045   \n",
       "3  2020     15595   11932    3663  26497  13551  12946 -10902    507    743   \n",
       "4  2021     16291   12542    3749  25676  12267  13409  -9385    511    770   \n",
       "\n",
       "   경상 손익  \n",
       "0  -5254  \n",
       "1  -5389  \n",
       "2  -5865  \n",
       "3 -11138  \n",
       "4  -9644  "
      ]
     },
     "execution_count": 27,
     "metadata": {},
     "output_type": "execute_result"
    }
   ],
   "source": [
    "df1 = df1.iloc[:6,:]\n",
    "df1"
   ]
  },
  {
   "cell_type": "code",
   "execution_count": 29,
   "metadata": {},
   "outputs": [],
   "source": [
    "plt.rcParams['font.family'] = 'Malgun Gothic'"
   ]
  },
  {
   "cell_type": "code",
   "execution_count": 89,
   "metadata": {},
   "outputs": [
    {
     "data": {
      "text/plain": [
       "Text(0.5, 1.0, '5년간의 서울교통공사 수익 및 지출액')"
      ]
     },
     "execution_count": 89,
     "metadata": {},
     "output_type": "execute_result"
    },
    {
     "data": {
      "image/png": "[encoded data removed]",
      "text/plain": [
       "<Figure size 720x360 with 1 Axes>"
      ]
     },
     "metadata": {
      "needs_background": "light"
     },
     "output_type": "display_data"
    }
   ],
   "source": [
    "N = 5\n",
    "ind = np.arange(N)\n",
    "wid = 0.4\n",
    "\n",
    "val1 = df1['운수사업수익']\n",
    "val2 = df1['기타사업수익']\n",
    "val3 = df1['인건비']\n",
    "val4 = df1['경비']\n",
    "val5 = df1['영업 손익'].apply(lambda x: -x)\n",
    "\n",
    "plt.figure(figsize= (10, 5))\n",
    "\n",
    "plt.bar(ind-wid/2, val1, width = wid, color = 'blue', label = \"운수 수익\")\n",
    "plt.bar(ind-wid/2, val2, width = wid, color = 'skyblue', bottom=val1, label = \"기타 수익\" )\n",
    "plt.bar(ind+wid/2, val3, width = wid, color = 'red', label = \"인건비 지출\")\n",
    "plt.bar(ind+wid/2, val4, width = wid, color = 'pink', bottom = val3, label = \"경비 지출\")\n",
    "\n",
    "plt.xticks(ind, df1['년도'])\n",
    "plt.ylim((0, 35000))\n",
    "plt.xlabel(\"년도\")\n",
    "plt.ylabel(\"수입/지출액 (억원)\")\n",
    "plt.legend()\n",
    "\n",
    "plt.title(\"5년간의 서울교통공사 수익 및 지출액\")\n"
   ]
  },
  {
   "cell_type": "code",
   "execution_count": 105,
   "metadata": {},
   "outputs": [
    {
     "data": {
      "text/plain": [
       "Text(0.5, 1.0, '5년간의 서울교통공사 적자규모')"
      ]
     },
     "execution_count": 105,
     "metadata": {},
     "output_type": "execute_result"
    },
    {
     "data": {
      "image/png": "[encoded data removed]",
      "text/plain": [
       "<Figure size 432x288 with 1 Axes>"
      ]
     },
     "metadata": {
      "needs_background": "light"
     },
     "output_type": "display_data"
    }
   ],
   "source": [
    "plt.plot(ind, val5, marker = 'o', linestyle = '-')\n",
    "\n",
    "plt.xticks(ind, df1[\"년도\"])\n",
    "plt.ylim((0, 13000))\n",
    "\n",
    "plt.xlabel(\"년도\")\n",
    "plt.ylabel(\"적자 규모 (억원)\")\n",
    "plt.grid()\n",
    "plt.title(\"5년간의 서울교통공사 적자규모\")\n"
   ]
  },
  {
   "cell_type": "code",
   "execution_count": null,
   "metadata": {},
   "outputs": [],
   "source": []
  }
 ],
 "metadata": {
  "kernelspec": {
   "display_name": "Python 3",
   "language": "python",
   "name": "python3"
  },
  "language_info": {
   "codemirror_mode": {
    "name": "ipython",
    "version": 3
   },
   "file_extension": ".py",
   "mimetype": "text/x-python",
   "name": "python",
   "nbconvert_exporter": "python",
   "pygments_lexer": "ipython3",
   "version": "3.10.6"
  },
  "orig_nbformat": 4,
  "vscode": {
   "interpreter": {
    "hash": "e31df9372a7639b42ae8f2863a2f7033717a11a9b12168b46ffbb844a76a9c7c"
   }
  }
 },
 "nbformat": 4,
 "nbformat_minor": 2
}
